{
  "nbformat": 4,
  "nbformat_minor": 0,
  "metadata": {
    "colab": {
      "provenance": []
    },
    "kernelspec": {
      "name": "python3",
      "display_name": "Python 3"
    },
    "language_info": {
      "name": "python"
    }
  },
  "cells": [
    {
      "cell_type": "code",
      "execution_count": 1,
      "metadata": {
        "colab": {
          "base_uri": "https://localhost:8080/"
        },
        "id": "gN9iQe-ki1N8",
        "outputId": "9c7e5376-b1ae-4c6f-c539-d11f1a254946"
      },
      "outputs": [
        {
          "output_type": "stream",
          "name": "stdout",
          "text": [
            "Merhaba,İGÜ - İSTKA!\n"
          ]
        }
      ],
      "source": [
        "print(\"Merhaba,İGÜ - İSTKA!\") # print ekrana cıktı veren bır koddur.\n"
      ]
    },
    {
      "cell_type": "code",
      "source": [
        "import sys # import python proglamlama dilinde kütüphane eklemeye yarayan bir kod blogudur\n",
        "print (sys.version)"
      ],
      "metadata": {
        "colab": {
          "base_uri": "https://localhost:8080/"
        },
        "id": "qGQ26F-WjIoo",
        "outputId": "f290fd81-b918-4100-8f8b-5f411333ab0f"
      },
      "execution_count": 2,
      "outputs": [
        {
          "output_type": "stream",
          "name": "stdout",
          "text": [
            "3.10.12 (main, Jul 29 2024, 16:56:48) [GCC 11.4.0]\n"
          ]
        }
      ]
    },
    {
      "cell_type": "code",
      "source": [
        "from google.colab import drive # google colab - drive bağlantısı\n",
        "drive.mount('/content/drive')\n"
      ],
      "metadata": {
        "colab": {
          "base_uri": "https://localhost:8080/"
        },
        "id": "nfsSpDxdjLUx",
        "outputId": "b3453c24-73ab-48d8-c6a3-eec2644d8e5b"
      },
      "execution_count": 3,
      "outputs": [
        {
          "output_type": "stream",
          "name": "stdout",
          "text": [
            "Mounted at /content/drive\n"
          ]
        }
      ]
    },
    {
      "cell_type": "code",
      "source": [
        "import os\n",
        "os.chdir ('/content/drive/My Drive/pythonders4')\n",
        "! pwd # bize kodun çıktısını dosya yolu olarak veren kod blogudur"
      ],
      "metadata": {
        "colab": {
          "base_uri": "https://localhost:8080/"
        },
        "id": "o8xuLUiejPbA",
        "outputId": "816b76fe-6664-419d-a88e-15fdd9c94a7a"
      },
      "execution_count": 4,
      "outputs": [
        {
          "output_type": "stream",
          "name": "stdout",
          "text": [
            "/content/drive/My Drive/pythonders4\n"
          ]
        }
      ]
    },
    {
      "cell_type": "code",
      "source": [
        "# liste tanımlama\n",
        "dizi = [2,3,5,6,8,11,14]\n",
        "\n",
        "# çift sayıları tutmak için boş liste\n",
        "numaralistesi = []\n",
        "\n",
        "# for ve if ile çift sayıları bulma\n",
        "for i in dizi:\n",
        "    if i % 2 == 0:\n",
        "        numaralistesi.append(i)\n",
        "print(f\"listede bulunan çift sayılar:{numaralistesi}\")\n",
        "print(\"Adet çift sayı\",len(numaralistesi),\"bulunmaktadır\" )\n"
      ],
      "metadata": {
        "colab": {
          "base_uri": "https://localhost:8080/"
        },
        "id": "ZRoib35tjTpp",
        "outputId": "18d83e8f-c404-47bf-ac8f-36a98a917a92"
      },
      "execution_count": 13,
      "outputs": [
        {
          "output_type": "stream",
          "name": "stdout",
          "text": [
            "listede bulunan çift sayılar:[2, 6, 8, 14]\n",
            "Adet çift sayı 4 bulunmaktadır\n"
          ]
        }
      ]
    },
    {
      "cell_type": "code",
      "source": [
        "dizi = [\"elma\",\"muz\",\"çilek\",\"su\",\"cikolata\"] # malzeme listesi\n",
        "aranacak_urun = \"muz\" # aranacak eleman\n",
        "\n",
        "if aranacak_urun in dizi:\n",
        "     print(f\"{aranacak_urun} listede mevcut.\")\n",
        "else:\n",
        "     print(f\"{aranacak_urun} listede yok.\")"
      ],
      "metadata": {
        "colab": {
          "base_uri": "https://localhost:8080/"
        },
        "id": "ZLEGdaq5rFrb",
        "outputId": "d51ed2ac-2e9c-4bee-fb65-03fa9411c5ff"
      },
      "execution_count": 12,
      "outputs": [
        {
          "output_type": "stream",
          "name": "stdout",
          "text": [
            "muz listede mevcut.\n"
          ]
        }
      ]
    },
    {
      "cell_type": "code",
      "source": [
        "dizi = [\"elma\",\"muz\",\"çilek\",\"su\",\"cikolata\"] # malzeme listesi\n",
        "aranacak_urun = input(\"Aranacak urun nedir?\") # aranacak eleman\n",
        "\n",
        "if aranacak_urun in dizi:\n",
        "     print(f\"{aranacak_urun} listede mevcut.\")\n",
        "else:\n",
        "     print(f\"{aranacak_urun} listede yok.\")"
      ],
      "metadata": {
        "colab": {
          "base_uri": "https://localhost:8080/"
        },
        "id": "mG7x_QwltUUC",
        "outputId": "69c1cfcb-4e93-461d-a6b2-289ce5a66934"
      },
      "execution_count": 14,
      "outputs": [
        {
          "output_type": "stream",
          "name": "stdout",
          "text": [
            "Aranacak urun nedir?muz\n",
            "muz listede mevcut.\n"
          ]
        }
      ]
    },
    {
      "cell_type": "code",
      "source": [
        "# matematiksel toplama işlemi\n",
        "\n",
        "def toplama(a,b):\n",
        "    return a + b\n",
        "\n",
        "# fonksiyonu çağırarak kullanma\n",
        "sonuc = toplama(5,3)\n",
        "print(f\"Toplama sonucu:{sonuc}\")\n",
        "print(\"Toplama sonucu:\",sonuc)"
      ],
      "metadata": {
        "colab": {
          "base_uri": "https://localhost:8080/"
        },
        "id": "I3CwCjQ92Ya1",
        "outputId": "ffe16b38-6095-4c77-dbe4-702ce31f5836"
      },
      "execution_count": 16,
      "outputs": [
        {
          "output_type": "stream",
          "name": "stdout",
          "text": [
            "Toplama sonucu:8\n",
            "Toplama sonucu: 8\n"
          ]
        }
      ]
    },
    {
      "cell_type": "code",
      "source": [
        "# liste elemanlarını toplama\n",
        "sayilar = [1,2,3,4,5]\n",
        "\n",
        "def liste_toplam(liste):\n",
        "    toplam = 0\n",
        "    for eleman in liste:\n",
        "        toplam += eleman\n",
        "    return toplam\n",
        "\n",
        "# fonksiyonu çağırarak kullanma\n",
        "sonuc = liste_toplam(sayilar)\n",
        "print(\"Toplama sonucu:\",sonuc)"
      ],
      "metadata": {
        "colab": {
          "base_uri": "https://localhost:8080/"
        },
        "id": "TWGZy7Zx3Xzk",
        "outputId": "d0fecc4d-caf2-4935-9789-59517db85aa3"
      },
      "execution_count": 18,
      "outputs": [
        {
          "output_type": "stream",
          "name": "stdout",
          "text": [
            "Toplama sonucu: 15\n"
          ]
        }
      ]
    },
    {
      "cell_type": "code",
      "source": [
        "# ebob ekok bulma\n",
        "def ebob(a,b):\n",
        "    while b:\n",
        "        a,b=b,a % b\n",
        "    return a\n",
        "\n",
        "def ekok(a,b):\n",
        "    return a * b // ebob(a,b)\n",
        "\n",
        "# kullanıcıdan iiki sayı al\n",
        "Bir_sayi = int(input(\"Birinci sayıyı girin:\"))\n",
        "iki_sayi = int(input(\"İkinci sayıyı girin:\"))\n",
        "\n",
        "# ebob ve ekok hesapla\n",
        "ebob_sonuc = ebob(Bir_sayi,iki_sayi)\n",
        "ekok_sonuc = ekok(Bir_sayi,iki_sayi)\n",
        "\n",
        "# sonucları göster\n",
        "print(f\"Ebob:{ebob_sonuc}\")\n",
        "print(f\"Ekok:{ekok_sonuc}\")\n"
      ],
      "metadata": {
        "colab": {
          "base_uri": "https://localhost:8080/"
        },
        "id": "KWK0Bix_5xUE",
        "outputId": "aa784084-9d87-4fa3-9014-e06a54ce1635"
      },
      "execution_count": 19,
      "outputs": [
        {
          "output_type": "stream",
          "name": "stdout",
          "text": [
            "Birinci sayıyı girin:31\n",
            "İkinci sayıyı girin:32\n",
            "Ebob:1\n",
            "Ekok:992\n"
          ]
        }
      ]
    },
    {
      "cell_type": "code",
      "source": [
        "# asal sayı kontrolü ve asal sayılar listesi\n",
        "def asal_mi(sayi):\n",
        "    if sayi < 2:\n",
        "        return False\n",
        "    for ı in range(2,int(sayi ** 0.5 + 1)):\n",
        "        if sayi % i == 0:\n",
        "            return False\n",
        "    return True\n",
        "\n",
        "def asal_sayilar(aralik):\n",
        "    asal_listesi = []\n",
        "    for sayi in range (2,aralik + 1):\n",
        "        if asal_mi(sayi):\n",
        "            asal_listesi.append(sayi)\n",
        "    return asal_listesi\n",
        "\n",
        "# fonksiyonları çağırarak kullanma\n",
        "aralik = 50\n",
        "sonuc = asal_sayilar(aralik)\n",
        "print(\"1 ile\",aralik,\"arasındaki asal sayılar:\",sonuc)"
      ],
      "metadata": {
        "colab": {
          "base_uri": "https://localhost:8080/"
        },
        "id": "vlrZ9jaO7LPs",
        "outputId": "11c2debe-defd-43af-884a-ca2653bdd2e3"
      },
      "execution_count": 23,
      "outputs": [
        {
          "output_type": "stream",
          "name": "stdout",
          "text": [
            "1 ile 50 arasındaki asal sayılar: [2, 3, 4, 5, 6, 7, 8, 9, 10, 11, 12, 13, 15, 16, 17, 18, 19, 20, 21, 22, 23, 24, 25, 26, 27, 29, 30, 31, 32, 33, 34, 35, 36, 37, 38, 39, 40, 41, 43, 44, 45, 46, 47, 48, 49, 50]\n"
          ]
        }
      ]
    }
  ]
}